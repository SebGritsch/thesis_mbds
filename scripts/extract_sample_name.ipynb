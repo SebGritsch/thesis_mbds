{
 "cells": [
  {
   "cell_type": "code",
   "execution_count": 19,
   "metadata": {},
   "outputs": [
    {
     "name": "stdout",
     "output_type": "stream",
     "text": [
      "['Blank8.raw', 'Blank9.raw', 'NC2_5W.raw', 'NC3_5W.raw', 'NF1_5W.raw', 'NF2_5W.raw', 'NI1_5W.raw', 'NI2_5W.raw', 'NJ1_5W.raw', 'NJ2_5W.raw']\n"
     ]
    },
    {
     "data": {
      "text/plain": [
       "159"
      ]
     },
     "execution_count": 19,
     "metadata": {},
     "output_type": "execute_result"
    }
   ],
   "source": [
    "import os\n",
    "import csv\n",
    "\n",
    "directory_path = os.getcwd()\n",
    "infile = os.path.join(directory_path, \"samplename.txt\")\n",
    "\n",
    "sample_name = []\n",
    "with open(infile, \"r\") as f:\n",
    "    reader = csv.reader(f)\n",
    "    for row in reader:\n",
    "        sample_name.append(row[0])\n",
    "\n",
    "print(sample_name[15:25])\n",
    "print(f\"Blanks: {len([name for name in sample_name if 'Blank' in name])}\")\n",
    "len(sample_name)"
   ]
  },
  {
   "cell_type": "code",
   "execution_count": 27,
   "metadata": {},
   "outputs": [
    {
     "name": "stdout",
     "output_type": "stream",
     "text": [
      "['NC2_5W', 'NC3_5W', 'NF1_5W', 'NF2_5W', 'NI1_5W', 'NI2_5W', 'NJ1_5W', 'NJ2_5W', 'NK1_5W_20231126110209', 'NK1_5W', 'NL1_5W', 'NM1_5W_20231124112220', 'NM1_5W', 'NN1_5W', 'NN2_5W']\n"
     ]
    },
    {
     "data": {
      "text/plain": [
       "114"
      ]
     },
     "execution_count": 27,
     "metadata": {},
     "output_type": "execute_result"
    }
   ],
   "source": [
    "# remove file extension\n",
    "sample_name_noext = [os.path.splitext(x)[0] for x in sample_name]\n",
    "\n",
    "# remoce blanks and QC samples\n",
    "# alternative: not starting with \"N\" or \"S\"\n",
    "sample_name_noext = [\n",
    "    name for name in sample_name_noext if \"Blank\" not in name and \"QC\" not in name\n",
    "]\n",
    "print(sample_name_noext[0:15])\n",
    "len(sample_name_noext)"
   ]
  },
  {
   "cell_type": "code",
   "execution_count": 31,
   "metadata": {},
   "outputs": [
    {
     "name": "stdout",
     "output_type": "stream",
     "text": [
      "['5', '5', '5', '5', '5', '5', '5', '5', '5', '5', '5', '5', '5', '5', '5']\n"
     ]
    },
    {
     "data": {
      "text/plain": [
       "114"
      ]
     },
     "execution_count": 31,
     "metadata": {},
     "output_type": "execute_result"
    }
   ],
   "source": [
    "# extract week number\n",
    "week = [name.split(\"_\")[1][0] for name in sample_name_noext]\n",
    "print(week[0:15])\n",
    "len(week)"
   ]
  },
  {
   "cell_type": "code",
   "execution_count": 32,
   "metadata": {},
   "outputs": [
    {
     "name": "stdout",
     "output_type": "stream",
     "text": [
      "['2', '3', '1', '2', '1', '2', '1', '2', '1', '1', '1', '1', '1', '1', '2']\n"
     ]
    },
    {
     "data": {
      "text/plain": [
       "114"
      ]
     },
     "execution_count": 32,
     "metadata": {},
     "output_type": "execute_result"
    }
   ],
   "source": [
    "# extract replicate number\n",
    "replicate = [\n",
    "    name.split(\"_\")[0][-1]\n",
    "    for name in sample_name_noext\n",
    "    if name.split(\"_\")[0][-1].isdigit()\n",
    "]\n",
    "print(replicate[0:15])\n",
    "len(replicate)"
   ]
  },
  {
   "cell_type": "code",
   "execution_count": 33,
   "metadata": {},
   "outputs": [
    {
     "name": "stdout",
     "output_type": "stream",
     "text": [
      "['C', 'C', 'F', 'F', 'I', 'I', 'J', 'J', 'K', 'K', 'L', 'M', 'M', 'N', 'N']\n"
     ]
    },
    {
     "data": {
      "text/plain": [
       "114"
      ]
     },
     "execution_count": 33,
     "metadata": {},
     "output_type": "execute_result"
    }
   ],
   "source": [
    "cond = [name[1] for name in sample_name_noext]\n",
    "print(cond[0:15])\n",
    "len(cond)"
   ]
  },
  {
   "cell_type": "code",
   "execution_count": 36,
   "metadata": {},
   "outputs": [
    {
     "name": "stdout",
     "output_type": "stream",
     "text": [
      "['N', 'N', 'N', 'N', 'N', 'N', 'N', 'N', 'N', 'N', 'N', 'N', 'N', 'N', 'N', 'N', 'N', 'N', 'N', 'N', 'N', 'N', 'S', 'S', 'S', 'S', 'S', 'S', 'S', 'S', 'S', 'S', 'S', 'S', 'S', 'S', 'S', 'S', 'S', 'S', 'S', 'S', 'S', 'S', 'S', 'S', 'S', 'S', 'S', 'S', 'S', 'S', 'S', 'S', 'S', 'S', 'S', 'S', 'S', 'S', 'N', 'N', 'N', 'N', 'N', 'N', 'N', 'N', 'N', 'N', 'S', 'S', 'S', 'S', 'S', 'S', 'S', 'S', 'S', 'S', 'S', 'S', 'S', 'S', 'S', 'S', 'S', 'S', 'S', 'S', 'N', 'N', 'N', 'N', 'S', 'S', 'S', 'S', 'S', 'S', 'S', 'S', '7', 'N', 'N', 'N', 'N', 'N', 'S', 'S', 'S', 'S', 'S', 'S']\n"
     ]
    },
    {
     "data": {
      "text/plain": [
       "114"
      ]
     },
     "execution_count": 36,
     "metadata": {},
     "output_type": "execute_result"
    }
   ],
   "source": [
    "plant = [name[0] for name in sample_name_noext]\n",
    "print(plant)\n",
    "len(plant)"
   ]
  },
  {
   "cell_type": "code",
   "execution_count": 37,
   "metadata": {},
   "outputs": [
    {
     "name": "stdout",
     "output_type": "stream",
     "text": [
      "['N_C_t5_2', 'N_C_t5_3', 'N_F_t5_1', 'N_F_t5_2', 'N_I_t5_1', 'N_I_t5_2', 'N_J_t5_1', 'N_J_t5_2', 'N_K_t5_1', 'N_K_t5_1', 'N_L_t5_1', 'N_M_t5_1', 'N_M_t5_1', 'N_N_t5_1', 'N_N_t5_2']\n"
     ]
    }
   ],
   "source": [
    "new_names = [\n",
    "    f\"{plant[i]}_{cond[i]}_t{week[i]}_{replicate[i]}\" for i in range(len(week))\n",
    "]\n",
    "print(new_names[0:15])"
   ]
  },
  {
   "cell_type": "code",
   "execution_count": 38,
   "metadata": {},
   "outputs": [],
   "source": [
    "# save new names to file\n",
    "outfile = os.path.join(directory_path, \"new_names.txt\")\n",
    "with open(outfile, \"w\") as f:\n",
    "    for name in new_names:\n",
    "        f.write(f\"{name}\\n\")"
   ]
  },
  {
   "cell_type": "code",
   "execution_count": null,
   "metadata": {},
   "outputs": [],
   "source": []
  }
 ],
 "metadata": {
  "kernelspec": {
   "display_name": "base",
   "language": "python",
   "name": "python3"
  },
  "language_info": {
   "codemirror_mode": {
    "name": "ipython",
    "version": 3
   },
   "file_extension": ".py",
   "mimetype": "text/x-python",
   "name": "python",
   "nbconvert_exporter": "python",
   "pygments_lexer": "ipython3",
   "version": "3.9.18"
  }
 },
 "nbformat": 4,
 "nbformat_minor": 2
}
